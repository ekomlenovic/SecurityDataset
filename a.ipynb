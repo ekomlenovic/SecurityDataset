{
 "cells": [
  {
   "cell_type": "markdown",
   "metadata": {},
   "source": [
    "# Import"
   ]
  },
  {
   "cell_type": "code",
   "execution_count": 3,
   "metadata": {},
   "outputs": [],
   "source": [
    "import pandas as pd"
   ]
  },
  {
   "cell_type": "markdown",
   "metadata": {},
   "source": [
    "# Data\n"
   ]
  },
  {
   "cell_type": "code",
   "execution_count": 15,
   "metadata": {},
   "outputs": [
    {
     "data": {
      "text/plain": [
       "(4960, 135)"
      ]
     },
     "execution_count": 15,
     "metadata": {},
     "output_type": "execute_result"
    }
   ],
   "source": [
    "file1 = 'data/globalterrorismdb_2021Jan-June_1222dist.xlsx'\n",
    "file2 = 'data/globalterrorismdb_0522dist.xlsx'\n",
    "\n",
    "df1 = pd.read_excel('data/globalterrorismdb_2021Jan-June_1222dist.xlsx')\n",
    "df1.shape"
   ]
  },
  {
   "cell_type": "code",
   "execution_count": 14,
   "metadata": {},
   "outputs": [
    {
     "data": {
      "text/plain": [
       "(209706, 135)"
      ]
     },
     "execution_count": 14,
     "metadata": {},
     "output_type": "execute_result"
    }
   ],
   "source": [
    "df2 = pd.read_excel('data/globalterrorismdb_0522dist.xlsx')\n",
    "df2.shape"
   ]
  },
  {
   "cell_type": "code",
   "execution_count": 37,
   "metadata": {
    "vscode": {
     "languageId": "coffeescript"
    }
   },
   "outputs": [
    {
     "data": {
      "text/plain": [
       "['approxdate',\n",
       " 'resolution',\n",
       " 'latitude',\n",
       " 'longitude',\n",
       " 'location',\n",
       " 'alternative',\n",
       " 'alternative_txt',\n",
       " 'multiple',\n",
       " 'attacktype2',\n",
       " 'attacktype2_txt',\n",
       " 'attacktype3',\n",
       " 'attacktype3_txt',\n",
       " 'targsubtype1',\n",
       " 'targsubtype1_txt',\n",
       " 'natlty1',\n",
       " 'natlty1_txt',\n",
       " 'targtype2',\n",
       " 'targtype2_txt',\n",
       " 'targsubtype2',\n",
       " 'targsubtype2_txt',\n",
       " 'corp2',\n",
       " 'target2',\n",
       " 'natlty2',\n",
       " 'natlty2_txt',\n",
       " 'targtype3',\n",
       " 'targtype3_txt',\n",
       " 'targsubtype3',\n",
       " 'targsubtype3_txt',\n",
       " 'corp3',\n",
       " 'target3',\n",
       " 'natlty3',\n",
       " 'natlty3_txt',\n",
       " 'gsubname',\n",
       " 'gname2',\n",
       " 'gsubname2',\n",
       " 'gname3',\n",
       " 'gsubname3',\n",
       " 'motive',\n",
       " 'guncertain2',\n",
       " 'guncertain3',\n",
       " 'claimmode',\n",
       " 'claimmode_txt',\n",
       " 'claim2',\n",
       " 'claimmode2',\n",
       " 'claimmode2_txt',\n",
       " 'claim3',\n",
       " 'claimmode3',\n",
       " 'claimmode3_txt',\n",
       " 'compclaim',\n",
       " 'weapsubtype1',\n",
       " 'weapsubtype1_txt',\n",
       " 'weaptype2',\n",
       " 'weaptype2_txt',\n",
       " 'weapsubtype2',\n",
       " 'weapsubtype2_txt',\n",
       " 'weaptype3',\n",
       " 'weaptype3_txt',\n",
       " 'weapsubtype3',\n",
       " 'weapsubtype3_txt',\n",
       " 'weaptype4',\n",
       " 'weaptype4_txt',\n",
       " 'weapsubtype4',\n",
       " 'weapsubtype4_txt',\n",
       " 'weapdetail',\n",
       " 'nkill',\n",
       " 'nkillus',\n",
       " 'nkillter',\n",
       " 'nwound',\n",
       " 'nwoundus',\n",
       " 'nwoundte',\n",
       " 'propextent',\n",
       " 'propextent_txt',\n",
       " 'propvalue',\n",
       " 'propcomment',\n",
       " 'nhostkid',\n",
       " 'nhostkidus',\n",
       " 'nhours',\n",
       " 'ndays',\n",
       " 'divert',\n",
       " 'kidhijcountry',\n",
       " 'ransom',\n",
       " 'ransomamt',\n",
       " 'ransomamtus',\n",
       " 'ransompaid',\n",
       " 'ransompaidus',\n",
       " 'ransomnote',\n",
       " 'hostkidoutcome',\n",
       " 'hostkidoutcome_txt',\n",
       " 'nreleased',\n",
       " 'addnotes',\n",
       " 'scite2',\n",
       " 'scite3',\n",
       " 'related']"
      ]
     },
     "execution_count": 37,
     "metadata": {},
     "output_type": "execute_result"
    }
   ],
   "source": [
    "def isColumnsEqual(df1, df2) -> bool:\n",
    "    \"\"\"\n",
    "    Check if the columns of two dataframes are equal\n",
    "    @param df1: dataframe 1\n",
    "    @param df2: dataframe 2\n",
    "    @return: True if the columns are equal, False otherwise\n",
    "    \"\"\"\n",
    "    return df1.columns.equals(df2.columns)\n",
    "\n",
    "print(\"Columns equals\", isColumnsEqual(df1, df2))\n",
    "\n",
    "def columnsEmpty(df) -> list:\n",
    "    \"\"\"\n",
    "    Check if the columns of a dataframe contain some empty values and retuirn the columns with empty values\n",
    "    @param df: dataframe\n",
    "    \"\"\"\n",
    "    return df.columns[df.isnull().any()].tolist()\n",
    "\n",
    "columnsempty = columnsEmpty(df1)\n",
    "columnsempty\n",
    "\n",
    "    "
   ]
  },
  {
   "cell_type": "code",
   "execution_count": 38,
   "metadata": {},
   "outputs": [
    {
     "data": {
      "text/plain": [
       "93"
      ]
     },
     "execution_count": 38,
     "metadata": {},
     "output_type": "execute_result"
    }
   ],
   "source": [
    "len(columnsempty)"
   ]
  },
  {
   "cell_type": "code",
   "execution_count": 45,
   "metadata": {},
   "outputs": [
    {
     "name": "stdout",
     "output_type": "stream",
     "text": [
      "gname\n",
      "Unknown                                        1769\n",
      "Taliban                                         954\n",
      "Houthi extremists (Ansar Allah)                 320\n",
      "Islamic State of Iraq and the Levant (ISIL)     225\n",
      "Fulani extremists                               181\n",
      "                                               ... \n",
      "Mai Mai Yakutumba Militia                         1\n",
      "Arakan Liberation Party (ALP)                     1\n",
      "Zero Guerrilla Force                              1\n",
      "Seven People Defense Force (SPDF)                 1\n",
      "Jabha East Africa                                 1\n",
      "Name: count, Length: 197, dtype: int64\n",
      "gname\n",
      "Unknown                                               91906\n",
      "Taliban                                               11982\n",
      "Islamic State of Iraq and the Levant (ISIL)            7254\n",
      "Shining Path (SL)                                      4564\n",
      "Al-Shabaab                                             4419\n",
      "                                                      ...  \n",
      "Stop the War Coalition                                    1\n",
      "The World United Formosans for Independence (WUFI)        1\n",
      "Saraya al-Salam                                           1\n",
      "Shooters of the Nest                                      1\n",
      "Zouaves Paris (ZVP)                                       1\n",
      "Name: count, Length: 3725, dtype: int64\n"
     ]
    }
   ],
   "source": [
    "top_terroist = df1['gname'].value_counts()"
   ]
  }
 ],
 "metadata": {
  "kernelspec": {
   "display_name": "p310",
   "language": "python",
   "name": "python3"
  },
  "language_info": {
   "codemirror_mode": {
    "name": "ipython",
    "version": 3
   },
   "file_extension": ".py",
   "mimetype": "text/x-python",
   "name": "python",
   "nbconvert_exporter": "python",
   "pygments_lexer": "ipython3",
   "version": "3.10.14"
  }
 },
 "nbformat": 4,
 "nbformat_minor": 2
}
