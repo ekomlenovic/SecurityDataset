{
 "cells": [
  {
   "cell_type": "markdown",
   "metadata": {},
   "source": [
    "# Import"
   ]
  },
  {
   "cell_type": "code",
   "execution_count": 21,
   "metadata": {},
   "outputs": [],
   "source": [
    "import pandas as pd"
   ]
  },
  {
   "cell_type": "markdown",
   "metadata": {},
   "source": [
    "# Data\n"
   ]
  },
  {
   "cell_type": "code",
   "execution_count": null,
   "metadata": {},
   "outputs": [],
   "source": [
    "file1 = 'data/globalterrorismdb_2021Jan-June_1222dist.xlsx'\n",
    "file2 = 'data/globalterrorismdb_0522dist.xlsx'\n",
    "\n",
    "df1 = pd.read_excel('data/globalterrorismdb_2021Jan-June_1222dist.xlsx')\n",
    "df1.shape"
   ]
  },
  {
   "cell_type": "code",
   "execution_count": null,
   "metadata": {},
   "outputs": [],
   "source": [
    "df2 = pd.read_excel('data/globalterrorismdb_0522dist.xlsx')\n",
    "df2.shape\n",
    "def isColumnsEqual(df1, df2) -> bool:\n",
    "    \"\"\"\n",
    "    Check if the columns of two dataframes are equal\n",
    "    @param df1: dataframe 1\n",
    "    @param df2: dataframe 2\n",
    "    @return: True if the columns are equal, False otherwise\n",
    "    \"\"\"\n",
    "    return df1.columns.equals(df2.columns)\n",
    "\n",
    "print(\"Columns equals\", isColumnsEqual(df1, df2))"
   ]
  },
  {
   "cell_type": "code",
   "execution_count": null,
   "metadata": {},
   "outputs": [],
   "source": [
    "def columnsEmpty(df) -> list:\n",
    "    \"\"\"\n",
    "    Check if the columns of a dataframe contain some empty values and retuirn the columns with empty values\n",
    "    @param df: dataframe\n",
    "    @return: list of columns with empty values\n",
    "    \"\"\"\n",
    "    return df.columns[df.isnull().any()].tolist()\n",
    "\n",
    "columnsempty = columnsEmpty(df1)\n",
    "columnsempty\n",
    "\n",
    "    "
   ]
  },
  {
   "cell_type": "code",
   "execution_count": null,
   "metadata": {},
   "outputs": [],
   "source": [
    "len(columnsempty)"
   ]
  },
  {
   "cell_type": "code",
   "execution_count": null,
   "metadata": {},
   "outputs": [],
   "source": [
    "top_terrorist = df1['gname'].value_counts()\n",
    "top_terrorist.head(10)"
   ]
  },
  {
   "cell_type": "code",
   "execution_count": null,
   "metadata": {},
   "outputs": [],
   "source": [
    "country_counts = df1['country_txt'].value_counts()\n",
    "country_counts.head(25)"
   ]
  },
  {
   "cell_type": "code",
   "execution_count": null,
   "metadata": {},
   "outputs": [],
   "source": [
    "attack_type = df1['attacktype1_txt'].value_counts()\n",
    "attack_type"
   ]
  },
  {
   "cell_type": "code",
   "execution_count": null,
   "metadata": {},
   "outputs": [],
   "source": [
    "weapon_type = df1['weaptype1_txt'].value_counts()\n",
    "weapon_type"
   ]
  },
  {
   "cell_type": "code",
   "execution_count": null,
   "metadata": {},
   "outputs": [],
   "source": [
    "Chemical = df1[df1['weaptype1_txt'] == 'Chemical']\n",
    "Chemical"
   ]
  },
  {
   "cell_type": "code",
   "execution_count": null,
   "metadata": {},
   "outputs": [],
   "source": [
    "weapon_subtype = df1['weapsubtype1_txt'].value_counts()\n",
    "weapon_subtype.head(10)"
   ]
  },
  {
   "cell_type": "code",
   "execution_count": null,
   "metadata": {},
   "outputs": [],
   "source": [
    "weapon_subtype = df2['weapsubtype1_txt'].value_counts()\n",
    "weapon_subtype.head(10)"
   ]
  },
  {
   "cell_type": "code",
   "execution_count": null,
   "metadata": {},
   "outputs": [],
   "source": [
    "pd.set_option('display.max_columns', None)\n",
    "attacks_in_france = df1[(df1['country_txt'] == 'France') & (df1['weaptype1_txt'] == 'Firearms')]\n",
    "attacks_in_france"
   ]
  },
  {
   "cell_type": "code",
   "execution_count": null,
   "metadata": {},
   "outputs": [],
   "source": [
    "nb = df2['nperps'].value_counts()\n",
    "nb.head(10)"
   ]
  },
  {
   "cell_type": "code",
   "execution_count": null,
   "metadata": {},
   "outputs": [],
   "source": [
    "Nuclear = df2[df2['weapsubtype1_txt'] == 'Nuclear']\n",
    "Nuclear"
   ]
  },
  {
   "cell_type": "code",
   "execution_count": null,
   "metadata": {},
   "outputs": [],
   "source": [
    "import matplotlib.pyplot as plt\n",
    "\n",
    "# Plot top 10 terrorist groups\n",
    "top_terrorist.head(10).plot(kind='bar')\n",
    "plt.title('Top 10 Terrorist Groups')\n",
    "plt.xlabel('Group Name')\n",
    "plt.ylabel('Number of Attacks')\n",
    "plt.show()\n",
    "\n",
    "# Plot attacks by country\n",
    "country_counts.head(25).plot(kind='bar')\n",
    "plt.title('Top 25 Countries by Number of Attacks')\n",
    "plt.xlabel('Country')\n",
    "plt.ylabel('Number of Attacks')\n",
    "plt.show()\n",
    "\n",
    "# Plot attack types\n",
    "attack_type.plot(kind='bar')\n",
    "plt.title('Attack Types')\n",
    "plt.xlabel('Attack Type')\n",
    "plt.ylabel('Number of Attacks')\n",
    "plt.show()\n",
    "\n",
    "# Plot weapon types\n",
    "weapon_type.plot(kind='bar')\n",
    "plt.title('Weapon Types')\n",
    "plt.xlabel('Weapon Type')\n",
    "plt.ylabel('Number of Attacks')\n",
    "plt.show()"
   ]
  },
  {
   "cell_type": "code",
   "execution_count": null,
   "metadata": {},
   "outputs": [],
   "source": [
    "print(df1.dtypes)"
   ]
  },
  {
   "cell_type": "code",
   "execution_count": 40,
   "metadata": {},
   "outputs": [],
   "source": [
    "def export_numerical_data_to_excel(input_file_path : str, output_file_path : str) -> None:\n",
    "    \"\"\"\n",
    "    Reads an Excel file, filters out the numerical columns, and exports them to a new Excel file.\n",
    "    @param input_file_path: The path to the input Excel file.\n",
    "    @param output_file_path: The path to the output Excel file where the numerical data will be saved.\n",
    "    @returns None\n",
    "    \"\"\"\n",
    "    df = pd.read_excel(input_file_path)\n",
    "    \n",
    "    numerical_df = df.select_dtypes(include=['number'])\n",
    "    \n",
    "    numerical_df.to_excel(output_file_path, index=False)\n",
    "    \n",
    "    print(f\"Numerical data exported to {output_file_path}\")\n",
    "\n",
    "input_file_path = 'data/globalterrorismdb_2021Jan-June_1222dist.xlsx'\n",
    "output_file_path = 'data/numerical_data.xlsx'\n",
    "#export_numerical_data_to_excel(input_file_path, output_file_path)"
   ]
  },
  {
   "cell_type": "code",
   "execution_count": null,
   "metadata": {},
   "outputs": [],
   "source": [
    "df = pd.read_excel('data/numerical_data.xlsx')\n",
    "print(\"DF shape:\", df.shape)\n",
    "print(\"DF columns:\", df.columns)\n",
    "print(\"DF head:\", df.head())\n",
    "\n",
    "df.hist(figsize=(15, 10))\n",
    "plt.suptitle('Distribution of Numerical Data')\n",
    "plt.show()\n",
    "plt.close()"
   ]
  },
  {
   "cell_type": "code",
   "execution_count": null,
   "metadata": {},
   "outputs": [],
   "source": [
    "df['date'] = df['eventid'].astype(str).str[:8]\n",
    "\n",
    "attacks_by_day = df['date'].value_counts().sort_index()\n",
    "\n",
    "plt.figure(figsize=(12, 6))\n",
    "attacks_by_day.plot(kind='bar')\n",
    "plt.title('Number of Attacks by Day')\n",
    "plt.xlabel('Date')\n",
    "plt.ylabel('Number of Attacks')\n",
    "plt.xticks(rotation=90)\n",
    "plt.show()"
   ]
  },
  {
   "cell_type": "code",
   "execution_count": null,
   "metadata": {},
   "outputs": [],
   "source": []
  }
 ],
 "metadata": {
  "kernelspec": {
   "display_name": "p310",
   "language": "python",
   "name": "python3"
  },
  "language_info": {
   "codemirror_mode": {
    "name": "ipython",
    "version": 3
   },
   "file_extension": ".py",
   "mimetype": "text/x-python",
   "name": "python",
   "nbconvert_exporter": "python",
   "pygments_lexer": "ipython3",
   "version": "3.11.9"
  }
 },
 "nbformat": 4,
 "nbformat_minor": 2
}
