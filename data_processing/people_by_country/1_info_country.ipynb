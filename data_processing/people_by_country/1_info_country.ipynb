{
 "cells": [
  {
   "cell_type": "code",
   "execution_count": 1,
   "metadata": {},
   "outputs": [],
   "source": [
    "import pandas as pd\n",
    "\n",
    "# Load your datasets\n",
    "data = pd.read_excel('../../data/globalterrorismdb_0522dist.xlsx')\n",
    "data_ppl_year = pd.read_csv('../../data/processed/ppl_country_years.csv')\n"
   ]
  },
  {
   "cell_type": "code",
   "execution_count": 2,
   "metadata": {},
   "outputs": [
    {
     "name": "stdout",
     "output_type": "stream",
     "text": [
      "Unique to first dataset: {'Venezuela', 'Western Sahara', 'East Germany (GDR)', 'South Yemen', 'Czechoslovakia', 'Macau', 'Taiwan', 'Gambia', 'Republic of the Congo', 'Zaire', 'Syria', 'Turkey', 'French Guiana', 'Vietnam', 'Russia', 'Swaziland', 'Falkland Islands', 'South Korea', 'North Korea', \"People's Republic of the Congo\", 'Vatican City', 'Brunei', 'West Bank and Gaza Strip', 'Democratic Republic of the Congo', 'West Germany (FRG)', 'Kyrgyzstan', 'Iran', 'Hong Kong', 'East Timor', 'North Yemen', 'International', 'Egypt', 'Serbia-Montenegro', 'Czech Republic', 'New Hebrides', 'Ivory Coast', 'Soviet Union', 'Bahamas', 'Bosnia-Herzegovina', 'Guadeloupe', 'Martinique', 'Rhodesia', 'Yugoslavia', 'Wallis and Futuna', 'Yemen', 'Laos', 'Macedonia'}\n",
      "number of unique countries in data: 47\n"
     ]
    }
   ],
   "source": [
    "data_copy = data.copy()\n",
    "data_ppl_year_copy = data_ppl_year.copy()\n",
    "\n",
    "# Get the unique country lists\n",
    "country_list_1 = data_copy['country_txt'].unique()\n",
    "country_list_2 = data_ppl_year_copy['Country Name'].unique()\n",
    "\n",
    "\n",
    "\n",
    "# Convert to sets for comparison\n",
    "set_1 = set(country_list_1)\n",
    "set_2 = set(country_list_2)\n",
    "\n",
    "# Find common countries\n",
    "common_countries = set_1.intersection(set_2)\n",
    "\n",
    "# Find countries unique to each dataset\n",
    "unique_to_set_1 = set_1 - set_2\n",
    "unique_to_set_2 = set_2 - set_1\n",
    "\n",
    "\n",
    "print(\"Unique to first dataset:\", unique_to_set_1)\n",
    "print('number of unique countries in data:', len(unique_to_set_1))"
   ]
  },
  {
   "cell_type": "code",
   "execution_count": 5,
   "metadata": {},
   "outputs": [
    {
     "name": "stdout",
     "output_type": "stream",
     "text": [
      "Unique to first dataset after correction: {'Western Sahara', 'South Yemen', 'Macau', 'Slovakia', 'Taiwan', 'Republic of the Congo', 'Zaire', 'French Guiana', 'Swaziland', 'Falkland Islands', \"People's Republic of the Congo\", 'Vatican City', 'Egypt', 'North Yemen', 'International', 'New Hebrides', 'Guadeloupe', 'Martinique', 'Rhodesia', 'Yugoslavia', 'Wallis and Futuna'}\n",
      "Number of unique countries in data after correction: 21\n"
     ]
    }
   ],
   "source": [
    "# Dictionnaire de correspondance pour les pays qui diffèrent entre les deux datasets\n",
    "corrections = {\n",
    "    'West Bank and Gaza Strip': 'West Bank and Gaza',\n",
    "    'Vietnam': 'Viet Nam',\n",
    "    'East Germany (GDR)': 'Germany',\n",
    "    'West Germany (FRG)': 'Germany',\n",
    "    'Turkey' : 'Turkiye',\n",
    "    'Yemen' : 'Yemen, Rep.',\n",
    "    'Bahamas' : 'Bahamas, The\",\"BHS',\n",
    "    'North Korea' : \"Korea, Dem. People's Rep.\",\n",
    "    \"Democratic Republic of the Congo\" : 'Congo, Dem. Rep.',\n",
    "    'Laos' : 'Lao PDR',\n",
    "    'Venezuela' : 'Venezuela, RB',\n",
    "    'Hong Kong' : 'Hong Kong SAR, China',\n",
    "    'Syria' : 'Syrian Arab Republic',\n",
    "    'Gambia' : 'Gambia, The',\n",
    "    'Ivory Coast' : \"Cote d'Ivoire\",\n",
    "    'Iran' : 'Iran, Islamic Rep.',\n",
    "    'East Timor' : 'Timor-Leste',\n",
    "    'South Korea' : 'Korea, Rep.',\n",
    "    'Brunei' : 'Brunei Darussalam',\n",
    "    'Soviet Union' : 'Russian Federation',\n",
    "    'Bahamas' : 'Bahamas, The',\n",
    "    'Bosnia-Herzegovina' : 'Bosnia and Herzegovina',\n",
    "    'BHS' : 'Bahamas, The',\n",
    "    'Macedonia' : 'North Macedonia',\n",
    "    'Russia' : 'Russian Federation',\n",
    "    'Kyrgyzstan' : 'Kyrgyz Republic',\n",
    "    'Czech Republic' : 'Czechia',\n",
    "    'Czechoslovakia' : 'Czechia',\n",
    "    'Slovak Republic' : 'Slovakia',\n",
    "    'Serbia-Montenegro' : 'Serbia',\n",
    "}\n",
    "\n",
    "# Appliquer les corrections aux données du premier dataset\n",
    "data_copy['country_txt'] = data_copy['country_txt'].replace(corrections)\n",
    "\n",
    "# Réexécuter la comparaison après correction\n",
    "country_list_1 = data_copy['country_txt'].unique()\n",
    "set_1 = set(country_list_1)\n",
    "common_countries = set_1.intersection(set_2)\n",
    "unique_to_set_1 = set_1 - set_2\n",
    "\n",
    "print(\"Unique to first dataset after correction:\", unique_to_set_1)\n",
    "print('Number of unique countries in data after correction:', len(unique_to_set_1))\n"
   ]
  }
 ],
 "metadata": {
  "kernelspec": {
   "display_name": "ML_graph_p311",
   "language": "python",
   "name": "python3"
  },
  "language_info": {
   "codemirror_mode": {
    "name": "ipython",
    "version": 3
   },
   "file_extension": ".py",
   "mimetype": "text/x-python",
   "name": "python",
   "nbconvert_exporter": "python",
   "pygments_lexer": "ipython3",
   "version": "3.11.9"
  }
 },
 "nbformat": 4,
 "nbformat_minor": 2
}
