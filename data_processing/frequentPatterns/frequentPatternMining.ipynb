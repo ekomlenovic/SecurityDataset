{
 "cells": [
  {
   "cell_type": "code",
   "execution_count": null,
   "metadata": {},
   "outputs": [],
   "source": [
    "import pandas as pd\n",
    "import numpy as np\n",
    "import plotly.express as px\n",
    "import scipy.stats as stats\n",
    "from sklearn.decomposition import PCA\n",
    "from sklearn.manifold import TSNE\n",
    "import seaborn as sns\n",
    "from mlxtend.frequent_patterns import apriori\n",
    "from mlxtend.frequent_patterns import association_rules\n",
    "pd.set_option(\"display.max_colwidth\", None)\n",
    "pd.set_option('display.max_columns', None)"
   ]
  },
  {
   "cell_type": "code",
   "execution_count": null,
   "metadata": {},
   "outputs": [],
   "source": [
    "df = pd.read_excel('../../data/globalterrorismdb_0522dist.xlsx')"
   ]
  },
  {
   "cell_type": "code",
   "execution_count": null,
   "metadata": {},
   "outputs": [],
   "source": [
    "df.head()"
   ]
  },
  {
   "cell_type": "code",
   "execution_count": null,
   "metadata": {},
   "outputs": [],
   "source": [
    "def get_boolean_like_columns(df):\n",
    "    boolean_columns = []\n",
    "    boolean_columns.extend(df.select_dtypes(include=['bool']).columns)\n",
    "    for col in df.select_dtypes(include=['number']).columns:\n",
    "        unique_values = df[col].dropna().unique()\n",
    "        if set(unique_values).issubset({0, 1, 0.0, 1.0, False, True}):\n",
    "            boolean_columns.append(col)\n",
    "    \n",
    "    return boolean_columns\n",
    "\n",
    "# Récupération des colonnes booléennes\n",
    "boolean_columns = get_boolean_like_columns(df)\n",
    "print(\"Colonnes booléennes probables :\", boolean_columns)"
   ]
  },
  {
   "cell_type": "code",
   "execution_count": null,
   "metadata": {},
   "outputs": [],
   "source": [
    "df_bool = df[boolean_columns]\n",
    "df_bool.head()\n",
    "\n",
    "# remplacement des NaN par 0\n",
    "df_bool.fillna(0, inplace=True)\n",
    "supports = apriori(df_bool, min_support=0.1, use_colnames=True)\n",
    "\n",
    "# Calculer les règles d'association (optionnel)\n",
    "rules = association_rules(supports, metric=\"leverage\", min_threshold=1)\n",
    "\n",
    "supports.sort_values(by=\"support\", ascending=False).head(10)\n",
    "\n"
   ]
  },
  {
   "cell_type": "code",
   "execution_count": null,
   "metadata": {},
   "outputs": [],
   "source": [
    "supports[\"len\"] = supports[\"itemsets\"].apply(lambda x: len(x))\n",
    "supports[supports[\"len\"]==2].sort_values(by=\"support\", ascending=False).head(10)"
   ]
  },
  {
   "cell_type": "code",
   "execution_count": null,
   "metadata": {},
   "outputs": [],
   "source": [
    "# compute association rules\n",
    "rules = association_rules(supports, metric=\"confidence\", min_threshold=0.5)\n",
    "rules.head(50)\n",
    "\n",
    "# filtrer par leverage descroissant\n",
    "filtered_rules = rules[\n",
    "    (rules[\"support\"] >= 0.05) &\n",
    "    (rules[\"confidence\"] >= 0.7) &\n",
    "    (rules[\"lift\"] > 1) &\n",
    "    (rules[\"leverage\"] > 0) &\n",
    "    (rules[\"conviction\"] > 1.2)\n",
    "]\n",
    "\n",
    "\n",
    "filtered_rules = filtered_rules.sort_values(by=\"lift\", ascending=False)\n",
    "\n",
    "filtered_rules.head(10)"
   ]
  },
  {
   "cell_type": "markdown",
   "metadata": {},
   "source": [
    "From the observation we made, we can see that lift is around 1.0 that means the items are independent of each other. We will try to to use our preprocessed data to see if we can get pattern frequent itemsets."
   ]
  },
  {
   "cell_type": "code",
   "execution_count": null,
   "metadata": {},
   "outputs": [],
   "source": [
    "df2 = pd.read_csv('../../data/db_preprocessed.csv')\n",
    "df2.head()"
   ]
  },
  {
   "cell_type": "code",
   "execution_count": null,
   "metadata": {},
   "outputs": [],
   "source": [
    "\n",
    "# Récupération des colonnes booléennes\n",
    "boolean_columns = get_boolean_like_columns(df2)\n",
    "print(\"Colonnes booléennes probables :\", boolean_columns)"
   ]
  },
  {
   "cell_type": "code",
   "execution_count": null,
   "metadata": {},
   "outputs": [],
   "source": [
    "df_bool = df2[boolean_columns]\n",
    "\n",
    "# remplacement des NaN par 0\n",
    "df_bool.fillna(0, inplace=True)\n",
    "\n",
    "df_bool.head()\n",
    "\n",
    "# drop columns with unknown in the name like weapon_unknown\n",
    "df_bool = df_bool[df_bool.columns.drop(list(df_bool.filter(regex='_unknown')))]\n"
   ]
  },
  {
   "cell_type": "code",
   "execution_count": null,
   "metadata": {},
   "outputs": [],
   "source": [
    "supports = apriori(df_bool, min_support=0.05, use_colnames=True)\n",
    "\n",
    "\n",
    "supports.sort_values(by=\"support\", ascending=False).head(10)\n"
   ]
  },
  {
   "cell_type": "code",
   "execution_count": null,
   "metadata": {},
   "outputs": [],
   "source": [
    "supports[\"len\"] = supports[\"itemsets\"].apply(lambda x: len(x))\n",
    "pd.set_option(\"display.max_colwidth\", None)\n",
    "supports[supports[\"len\"]==2].sort_values(by=\"support\", ascending=False).head(10)"
   ]
  },
  {
   "cell_type": "code",
   "execution_count": null,
   "metadata": {},
   "outputs": [],
   "source": [
    "# compute association rules\n",
    "rules = association_rules(supports, metric=\"lift\", min_threshold=0.5)\n",
    "rules.head(50)\n",
    "\n",
    "# filtrer par leverage descroissant\n",
    "filtered_rules = rules[\n",
    "    (rules[\"support\"] >= 0.05) &\n",
    "    (rules[\"confidence\"] >= 0.7) &\n",
    "    (rules[\"lift\"] > 1) &\n",
    "    (rules[\"leverage\"] > 0) &\n",
    "    (rules[\"conviction\"] > 1.2)\n",
    "]\n",
    "\n",
    "\n",
    "filtered_rules = filtered_rules.sort_values(by=\"lift\", ascending=False)\n",
    "\n",
    "filtered_rules.head(10)"
   ]
  },
  {
   "cell_type": "markdown",
   "metadata": {},
   "source": [
    "# Analysis patterns\n",
    "On previous data (db_2021_preprocessed.csv)\n",
    "\n",
    "```python\n",
    "- Rule 5392\n",
    "    - Antecedents : (doubtterr, crit2, crit1, attack_armed assault, success)\n",
    "    - Consequents : (weapon_firearms, target_military)\n",
    "\n",
    "- Support: 5.99%, a moderate proportion.\n",
    "- Confidence: 94.29%, indicating that almost all incidents meeting these criteria involve firearms and target a military target.\n",
    "- Lift: 10.98, a very strong relationship.\n",
    "- Context: This suggests that these criteria (crit1, crit2, doubtterr) are strong indicators of armed incidents targeting military targets.\n",
    "------------\n",
    "- Rule 5434\n",
    "    - Antecedents : (success, attack_armed assault, target_military)\n",
    "    - Consequents : (weapon_firearms, doubtterr, crit2, crit1)\n",
    "\n",
    "- Support: 5.99%, same as rule 5392.\n",
    "- Confidence: 79.62%, slightly lower than the previous rule.\n",
    "- Lift: 10.85, still very high.\n",
    "- Context: Successful incidents against military targets in armed attacks are strongly associated with the use of firearms and the mentioned criteria.\n",
    "-------------\n",
    "- Rule 4568\n",
    "    - Antecedents : (crit1, doubtterr, attack_armed assault, crit2)\n",
    "    - Consequents : (weapon_firearms, target_military)\n",
    "\n",
    "- Support: 6.69%, slightly more frequent than other rules.\n",
    "- Confidence: 92.73%, very high, with a lift of 10.79.\n",
    "- Lift: 10.80 : high\n",
    "- Context: These criteria (including crit1, crit2, doubtterr) increase the likelihood that firearms will be used against military targets.\n",
    "-------------\n",
    "\n",
    "The criteria crit1, crit2, and doubtterr play a central role in defining armed incidents against military targets.\n",
    "\n",
    "Successful incidents involving firearms have a very high probability of involving military targets.\n",
    "\n",
    "The very strong relationships (high lift, high conviction) suggest that these patterns are significant in the context of terrorism.\n"
   ]
  },
  {
   "cell_type": "code",
   "execution_count": null,
   "metadata": {},
   "outputs": [],
   "source": [
    "df_looking_group_type= pd.read_csv('../../data/processed/db_2021_preprocessed.csv')\n",
    "df_looking_group_type.head()"
   ]
  },
  {
   "cell_type": "code",
   "execution_count": null,
   "metadata": {},
   "outputs": [],
   "source": [
    "# One hot encode gname\n",
    "df_looking_group_type = pd.get_dummies(df_looking_group_type, columns=['gname'])\n",
    "df_looking_group_type.head()"
   ]
  },
  {
   "cell_type": "code",
   "execution_count": null,
   "metadata": {},
   "outputs": [],
   "source": [
    "df_looking_group_type_boolean_col = get_boolean_like_columns(df_looking_group_type)\n",
    "print(\"Colonnes booléennes probables :\", df_looking_group_type_boolean_col)\n",
    "df_looking_group_type_boolean = df_looking_group_type[df_looking_group_type_boolean_col]\n",
    "df_looking_group_type_boolean.head()\n"
   ]
  },
  {
   "cell_type": "code",
   "execution_count": null,
   "metadata": {},
   "outputs": [],
   "source": [
    "df_looking_group_type_boolean.fillna(0, inplace=True)\n",
    "\n",
    "df_looking_group_type_boolean.head()\n",
    "\n",
    "supports = apriori(df_looking_group_type_boolean, min_support=0.005, use_colnames=True)\n"
   ]
  },
  {
   "cell_type": "code",
   "execution_count": null,
   "metadata": {},
   "outputs": [],
   "source": [
    "rules = association_rules(supports, metric=\"support\", min_threshold=0.05)\n",
    "rules.head(50)\n",
    "\n",
    "filtered_rules = filtered_rules.sort_values(by=\"lift\", ascending=False)\n",
    "\n",
    "filtered_rules_subset = filtered_rules.loc[\n",
    "    filtered_rules['antecedents'].apply(lambda x: 'gname' in str(x)) & \n",
    "    filtered_rules['consequents'].apply(lambda x: 'attack' in str(x))\n",
    "]\n",
    "\n",
    "filtered_rules_subset.head(10)"
   ]
  }
 ],
 "metadata": {
  "kernelspec": {
   "display_name": "dm",
   "language": "python",
   "name": "python3"
  },
  "language_info": {
   "codemirror_mode": {
    "name": "ipython",
    "version": 3
   },
   "file_extension": ".py",
   "mimetype": "text/x-python",
   "name": "python",
   "nbconvert_exporter": "python",
   "pygments_lexer": "ipython3",
   "version": "3.11.9"
  }
 },
 "nbformat": 4,
 "nbformat_minor": 2
}
